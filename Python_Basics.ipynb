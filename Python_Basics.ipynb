{
  "nbformat": 4,
  "nbformat_minor": 0,
  "metadata": {
    "colab": {
      "provenance": []
    },
    "kernelspec": {
      "name": "python3",
      "display_name": "Python 3"
    },
    "language_info": {
      "name": "python"
    }
  },
  "cells": [
    {
      "cell_type": "markdown",
      "source": [
        "# Python Basics\n",
        "\n",
        "Theory Questions | Assignment - 1\n",
        "\n",
        "### 1. What is Python, and why is it popular?\n",
        "\n",
        "**Answer**: Python is a high-level, interpreted programming language known for its readability and simplicity. It’s versatile, supporting multiple paradigms like object-oriented, functional, and procedural programming. Its popularity stems from its beginner-friendly syntax, extensive libraries (e.g., NumPy, Django), and use in fields like web development, data science, AI, and automation.\n",
        "\n",
        "Example: print(\"Hello, World!\")  \n",
        "\n",
        "\n",
        "### 2. What is an interpreter in Python?\n",
        "Answer: An interpreter in Python is a program that executes Python code line-by-line, translating it into machine code on the fly. Unlike compilers, it doesn’t create a separate executable file, allowing for immediate execution and debugging.\n",
        "\n",
        "Example: x = 5\n",
        "print(x * 2)  # Interpreter processes this line-by-line, outputs 10\n",
        "\n",
        "The Python interpreter (e.g., CPython) reads and executes each line, making coding interactive.\n",
        "\n",
        "\n",
        "### 3. What are pre-defined keywords in Python?\n",
        "Answer: Pre-defined keywords in Python are reserved words with special meanings, used to define syntax and structure. Examples include if, for, while, def, and return. They cannot be redefined or used as identifiers.\n",
        "\n",
        "Example:\n",
        "\n",
        "\n",
        "\n"
      ],
      "metadata": {
        "id": "bTCSj6hDIUqO"
      }
    },
    {
      "cell_type": "code",
      "source": [
        "if True:\n",
        "    print(\"This uses the 'if' keyword!\")  # 'if' is a keyword controlling flow"
      ],
      "metadata": {
        "colab": {
          "base_uri": "https://localhost:8080/"
        },
        "id": "5erhBXsMLG2Z",
        "outputId": "63391139-2ce6-4e9b-c53a-cb8255ce7563"
      },
      "execution_count": null,
      "outputs": [
        {
          "output_type": "stream",
          "name": "stdout",
          "text": [
            "This uses the 'if' keyword!\n"
          ]
        }
      ]
    },
    {
      "cell_type": "markdown",
      "source": [
        "### 4. Can keywords be used as variable names?\n",
        "Answer: No, keywords cannot be used as variable names because they are reserved for Python’s syntax. Using them as variables raises a SyntaxError.\n",
        "\n",
        "Example:"
      ],
      "metadata": {
        "id": "oCJU-MwbLKs9"
      }
    },
    {
      "cell_type": "code",
      "source": [
        "# This will cause an error\n",
        "for = 10  # SyntaxError: invalid syntax\n",
        "# Correct approach\n",
        "my_loop = 10  # Valid variable name\n",
        "print(my_loop)  # Outputs: 10"
      ],
      "metadata": {
        "colab": {
          "base_uri": "https://localhost:8080/",
          "height": 108
        },
        "id": "p1Db4P6bLTs3",
        "outputId": "34ac321c-0651-49ed-e25c-a23979c35fc8"
      },
      "execution_count": null,
      "outputs": [
        {
          "output_type": "error",
          "ename": "SyntaxError",
          "evalue": "invalid syntax (ipython-input-3717270651.py, line 2)",
          "traceback": [
            "\u001b[0;36m  File \u001b[0;32m\"/tmp/ipython-input-3717270651.py\"\u001b[0;36m, line \u001b[0;32m2\u001b[0m\n\u001b[0;31m    for = 10  # SyntaxError: invalid syntax\u001b[0m\n\u001b[0m        ^\u001b[0m\n\u001b[0;31mSyntaxError\u001b[0m\u001b[0;31m:\u001b[0m invalid syntax\n"
          ]
        }
      ]
    },
    {
      "cell_type": "markdown",
      "source": [
        "### 5. What is mutability in Python?\n",
        "Answer: Mutability refers to an object’s ability to be changed after creation. Mutable objects (e.g., lists, dictionaries) can have their contents modified, while immutable objects (e.g., tuples, strings) cannot.\n",
        "\n",
        "Example:"
      ],
      "metadata": {
        "id": "lSkye8iyLpLx"
      }
    },
    {
      "cell_type": "code",
      "source": [
        "my_list = [1, 2, 3]\n",
        "my_list[0] = 10  # Mutable: changes list to [10, 2, 3]\n",
        "print(my_list)  # Outputs: [10, 2, 3]"
      ],
      "metadata": {
        "colab": {
          "base_uri": "https://localhost:8080/"
        },
        "id": "VOw-lgSJLxgE",
        "outputId": "ef47b2fa-5f51-4d71-b95d-cba2fda6061e"
      },
      "execution_count": null,
      "outputs": [
        {
          "output_type": "stream",
          "name": "stdout",
          "text": [
            "[10, 2, 3]\n"
          ]
        }
      ]
    },
    {
      "cell_type": "markdown",
      "source": [
        "### 6. Why are lists mutable, but tuples are immutable?\n",
        "Answer: Lists are mutable because they’re designed for flexibility, allowing modifications like adding or changing elements. Tuples are immutable to ensure data integrity, often used for fixed collections. This is a design choice in Python for performance and safety.\n",
        "\n",
        "Example:"
      ],
      "metadata": {
        "id": "c7tIJ_0lL1zn"
      }
    },
    {
      "cell_type": "code",
      "source": [
        "my_list = [1, 2, 3]\n",
        "my_list.append(4)  # List is mutable, becomes [1, 2, 3, 4]\n",
        "my_tuple = (1, 2, 3)\n",
        "# my_tuple[0] = 10  # Error: tuples can't be changed\n",
        "print(my_list, my_tuple)  # Outputs: [1, 2, 3, 4] (1, 2, 3)"
      ],
      "metadata": {
        "id": "FKJCckd4L9wd"
      },
      "execution_count": null,
      "outputs": []
    },
    {
      "cell_type": "markdown",
      "source": [
        "### 7. What is the difference between “==” and “is” operators in Python?\n",
        "Answer: The == operator checks for value equality (compares content), while is checks for identity (same memory location). Small integers and strings may share memory due to Python’s optimization, but larger objects often don’t.\n",
        "\n",
        "Example:"
      ],
      "metadata": {
        "id": "INkkkMpBMBVo"
      }
    },
    {
      "cell_type": "code",
      "source": [
        "a = [1, 2, 3]\n",
        "b = [1, 2, 3]\n",
        "print(a == b)  # True: same values\n",
        "print(a is b)  # False: different objects in memory"
      ],
      "metadata": {
        "id": "4PGnhtlgMHKS"
      },
      "execution_count": null,
      "outputs": []
    },
    {
      "cell_type": "markdown",
      "source": [
        "### 8. What are logical operators in Python?\n",
        "Answer: Logical operators (and, or, not) combine boolean expressions to control program flow. and returns True if both conditions are True, or if at least one is True, and not inverts the truth value.\n",
        "\n",
        "Example:"
      ],
      "metadata": {
        "id": "6VbrEloHMKOp"
      }
    },
    {
      "cell_type": "code",
      "source": [
        "x = 5\n",
        "print(x > 0 and x < 10)  # True: both conditions met\n",
        "print(x < 0 or x > 4)    # True: at least one condition met\n",
        "print(not x == 5)        # False: inverts True to False"
      ],
      "metadata": {
        "id": "N8XjKGShMPbg"
      },
      "execution_count": null,
      "outputs": []
    },
    {
      "cell_type": "markdown",
      "source": [
        "### 9. What is type casting in Python?\n",
        "Answer: Type casting is converting a variable from one data type to another (e.g., int to float, string to int) using functions like int(), float(), str().\n",
        "\n",
        "Example:"
      ],
      "metadata": {
        "id": "lRaJnXyiMYMZ"
      }
    },
    {
      "cell_type": "code",
      "source": [
        "x = \"123\"\n",
        "y = int(x)  # Cast string to integer\n",
        "print(y + 1)  # Outputs: 124"
      ],
      "metadata": {
        "colab": {
          "base_uri": "https://localhost:8080/"
        },
        "id": "0z8R1UBBMe7q",
        "outputId": "1d2e7315-86c7-4aa9-dec8-dbb36c7e3242"
      },
      "execution_count": null,
      "outputs": [
        {
          "output_type": "stream",
          "name": "stdout",
          "text": [
            "124\n"
          ]
        }
      ]
    },
    {
      "cell_type": "markdown",
      "source": [
        "### 10. What is the difference between implicit and explicit type casting?\n",
        "Answer: Implicit type casting is automatic, done by Python (e.g., int to float in arithmetic). Explicit type casting requires manual conversion using functions like int(), float().\n",
        "\n",
        "Example:"
      ],
      "metadata": {
        "id": "0DqfLdghMi71"
      }
    },
    {
      "cell_type": "code",
      "source": [
        "# Implicit casting\n",
        "x = 5  # int\n",
        "y = 2.0  # float\n",
        "z = x + y  # Python casts x to float, z is 7.0\n",
        "# Explicit casting\n",
        "a = \"10\"\n",
        "b = int(a)  # Manually cast to int\n",
        "print(z, b + 1)  # Outputs: 7.0 11"
      ],
      "metadata": {
        "colab": {
          "base_uri": "https://localhost:8080/"
        },
        "id": "0vcSyLcVMozm",
        "outputId": "dec2e8c1-c0d4-48da-9802-97416c4c4ca9"
      },
      "execution_count": null,
      "outputs": [
        {
          "output_type": "stream",
          "name": "stdout",
          "text": [
            "7.0 11\n"
          ]
        }
      ]
    },
    {
      "cell_type": "markdown",
      "source": [
        "### 11. What is the purpose of conditional statements in Python?\n",
        "Answer: Conditional statements (if, elif, else) control program flow by executing code blocks based on conditions. They allow decision-making based on whether expressions evaluate to True or False.\n",
        "\n",
        "Example:\n"
      ],
      "metadata": {
        "id": "ogrV2BwNMs_r"
      }
    },
    {
      "cell_type": "code",
      "source": [
        "age = 18\n",
        "if age >= 18:\n",
        "    print(\"You can vote!\")  # Outputs: You can vote!\n",
        "else:\n",
        "    print(\"Too young to vote.\")"
      ],
      "metadata": {
        "colab": {
          "base_uri": "https://localhost:8080/"
        },
        "id": "2N519s9MM0F9",
        "outputId": "123e9c8e-716c-4421-c141-b0320c535a83"
      },
      "execution_count": null,
      "outputs": [
        {
          "output_type": "stream",
          "name": "stdout",
          "text": [
            "You can vote!\n"
          ]
        }
      ]
    },
    {
      "cell_type": "markdown",
      "source": [
        "### 12. How does the elif statement work?\n",
        "Answer: The elif (else if) statement checks additional conditions if the previous if or elif conditions are False. It’s used to handle multiple scenarios in a single if block.\n",
        "\n",
        "Example:"
      ],
      "metadata": {
        "id": "Y2HfZMV4M3rB"
      }
    },
    {
      "cell_type": "code",
      "source": [
        "score = 85\n",
        "if score >= 90:\n",
        "    print(\"A\")\n",
        "elif score >= 80:\n",
        "    print(\"B\")  # Outputs: B\n",
        "elif score >= 70:\n",
        "    print(\"C\")\n",
        "else:\n",
        "    print(\"D\")"
      ],
      "metadata": {
        "colab": {
          "base_uri": "https://localhost:8080/"
        },
        "id": "fRBXlBV2M8RE",
        "outputId": "ef2ed975-4e48-4c80-c4c6-9262e03d607e"
      },
      "execution_count": null,
      "outputs": [
        {
          "output_type": "stream",
          "name": "stdout",
          "text": [
            "B\n"
          ]
        }
      ]
    },
    {
      "cell_type": "markdown",
      "source": [
        "### 13. What is the difference between for and while loops? Describe a scenario where a while loop is more suitable than a for loop.\n",
        "Answer:\n",
        "\n",
        "For loop: Iterates over a sequence (e.g., list, range) with a known number of iterations.\n",
        "While loop: Runs as long as a condition is True, ideal for unknown iteration counts.\n",
        "Scenario: A while loop is better when you’re waiting for user input to stop, like a program that keeps asking for input until a specific value is entered (e.g., “quit”).\n",
        "\n",
        "Example:"
      ],
      "metadata": {
        "id": "wIfMhf9NNBHd"
      }
    },
    {
      "cell_type": "code",
      "source": [
        "# For loop (known iterations)\n",
        "for i in range(3):\n",
        "    print(i)  # Outputs: 0, 1, 2\n",
        "# While loop (unknown iterations)\n",
        "user_input = \"\"\n",
        "while user_input != \"quit\":\n",
        "    user_input = input(\"Enter something (type 'quit' to stop): \")\n",
        "    print(\"You entered:\", user_input)"
      ],
      "metadata": {
        "id": "fwrdKgM_NMWy"
      },
      "execution_count": null,
      "outputs": []
    },
    {
      "cell_type": "markdown",
      "source": [
        "# Practical Questions\n",
        "##**Assignment 1**"
      ],
      "metadata": {
        "id": "BIOerZzeOo01"
      }
    },
    {
      "cell_type": "markdown",
      "source": [
        "### 1. Write a Python program to print \"Hello, World!\""
      ],
      "metadata": {
        "id": "pGltX4KfeJzv"
      }
    },
    {
      "cell_type": "code",
      "source": [
        "print(\"Hello, World!\")"
      ],
      "metadata": {
        "colab": {
          "base_uri": "https://localhost:8080/"
        },
        "id": "TAnYxEXpeLrn",
        "outputId": "0fc6778b-48af-46ea-f50b-cd0f4dfcf6e1"
      },
      "execution_count": null,
      "outputs": [
        {
          "output_type": "stream",
          "name": "stdout",
          "text": [
            "Hello, World!\n"
          ]
        }
      ]
    },
    {
      "cell_type": "markdown",
      "source": [
        "### 2. Write a Python program that displays your name and age."
      ],
      "metadata": {
        "id": "Mc465QFsePM4"
      }
    },
    {
      "cell_type": "code",
      "source": [
        "name = \"Grok\"  # Replace with your name\n",
        "age = 1  # Replace with your age (I'm a young AI!)\n",
        "print(f\"Name: {name}\")\n",
        "print(f\"Age: {age}\")"
      ],
      "metadata": {
        "colab": {
          "base_uri": "https://localhost:8080/"
        },
        "id": "woFmt6YHeS9L",
        "outputId": "bd38d7d2-f814-42a6-c9cc-740a3e9621de"
      },
      "execution_count": 1,
      "outputs": [
        {
          "output_type": "stream",
          "name": "stdout",
          "text": [
            "Name: Grok\n",
            "Age: 1\n"
          ]
        }
      ]
    },
    {
      "cell_type": "markdown",
      "source": [
        "### 3. Write code to print all the pre-defined keywords in Python using the keyword library."
      ],
      "metadata": {
        "id": "iwkce33HeVkf"
      }
    },
    {
      "cell_type": "code",
      "source": [
        "import keyword\n",
        "print(keyword.kwlist)"
      ],
      "metadata": {
        "colab": {
          "base_uri": "https://localhost:8080/"
        },
        "id": "LPTHn-P-eZWg",
        "outputId": "45b708da-9ca8-4cc1-fbfe-7f8dce501ef4"
      },
      "execution_count": null,
      "outputs": [
        {
          "output_type": "stream",
          "name": "stdout",
          "text": [
            "['False', 'None', 'True', 'and', 'as', 'assert', 'async', 'await', 'break', 'class', 'continue', 'def', 'del', 'elif', 'else', 'except', 'finally', 'for', 'from', 'global', 'if', 'import', 'in', 'is', 'lambda', 'nonlocal', 'not', 'or', 'pass', 'raise', 'return', 'try', 'while', 'with', 'yield']\n"
          ]
        }
      ]
    },
    {
      "cell_type": "markdown",
      "source": [
        "### 4. Write a program that checks if a given word is a Python keyword."
      ],
      "metadata": {
        "id": "MDjk9aP-ej4T"
      }
    },
    {
      "cell_type": "code",
      "source": [
        "import keyword\n",
        "\n",
        "word = input(\"Enter a word: \")\n",
        "if keyword.iskeyword(word):\n",
        "    print(f\"'{word}' is a Python keyword.\")\n",
        "else:\n",
        "    print(f\"'{word}' is not a Python keyword.\")"
      ],
      "metadata": {
        "id": "hNtAqg9BelEX",
        "colab": {
          "base_uri": "https://localhost:8080/"
        },
        "outputId": "c6be3847-6895-47bf-876b-605b80c7a24d"
      },
      "execution_count": null,
      "outputs": [
        {
          "name": "stdout",
          "output_type": "stream",
          "text": [
            "Enter a word: nancy\n"
          ]
        }
      ]
    },
    {
      "cell_type": "markdown",
      "source": [
        "### 5. Create a list and tuple in Python, and demonstrate how attempting to change an element works differently for each."
      ],
      "metadata": {
        "id": "SLwkPJ9keo6U"
      }
    },
    {
      "cell_type": "code",
      "source": [
        "# Create a list (mutable)\n",
        "my_list = [1, 2, 3]\n",
        "print(\"Original list:\", my_list)\n",
        "my_list[0] = 10  # This works\n",
        "print(\"Modified list:\", my_list)\n",
        "\n",
        "# Create a tuple (immutable)\n",
        "my_tuple = (1, 2, 3)\n",
        "print(\"Original tuple:\", my_tuple)\n",
        "try:\n",
        "    my_tuple[0] = 10  # This will raise an error\n",
        "except TypeError as e:\n",
        "    print(\"Error modifying tuple:\", e)"
      ],
      "metadata": {
        "id": "AMdkGwhrevTS",
        "colab": {
          "base_uri": "https://localhost:8080/"
        },
        "outputId": "6dd03ad1-f68b-4bfb-ffa6-a4cb06257329"
      },
      "execution_count": 2,
      "outputs": [
        {
          "output_type": "stream",
          "name": "stdout",
          "text": [
            "Original list: [1, 2, 3]\n",
            "Modified list: [10, 2, 3]\n",
            "Original tuple: (1, 2, 3)\n",
            "Error modifying tuple: 'tuple' object does not support item assignment\n"
          ]
        }
      ]
    },
    {
      "cell_type": "markdown",
      "source": [
        "### 6. Write a function to demonstrate the behavior of mutable and immutable arguments."
      ],
      "metadata": {
        "id": "pa1YCUMzexxB"
      }
    },
    {
      "cell_type": "code",
      "source": [
        "def modify_args(mutable_arg, immutable_arg):\n",
        "    # Mutable argument (list) can be changed inside the function\n",
        "    mutable_arg.append(4)\n",
        "    print(\"Inside function - mutable_arg:\", mutable_arg)\n",
        "\n",
        "    # Immutable argument (string) cannot be changed; reassignment is local\n",
        "    immutable_arg = \"changed\"\n",
        "    print(\"Inside function - immutable_arg:\", immutable_arg)\n",
        "\n",
        "# Test with a list (mutable) and string (immutable)\n",
        "my_list = [1, 2, 3]\n",
        "my_string = \"original\"\n",
        "modify_args(my_list, my_string)\n",
        "print(\"After function - my_list:\", my_list)  # Changed\n",
        "print(\"After function - my_string:\", my_string)  # Unchanged"
      ],
      "metadata": {
        "id": "-DKiI5X2e3Vz",
        "colab": {
          "base_uri": "https://localhost:8080/"
        },
        "outputId": "6baba93a-7d6f-49af-b7d7-c088ed125797"
      },
      "execution_count": 3,
      "outputs": [
        {
          "output_type": "stream",
          "name": "stdout",
          "text": [
            "Inside function - mutable_arg: [1, 2, 3, 4]\n",
            "Inside function - immutable_arg: changed\n",
            "After function - my_list: [1, 2, 3, 4]\n",
            "After function - my_string: original\n"
          ]
        }
      ]
    },
    {
      "cell_type": "markdown",
      "source": [
        "### 7. Write a program that performs basic arithmetic operations on two user-input numbers."
      ],
      "metadata": {
        "id": "PAQqrxFhe5sO"
      }
    },
    {
      "cell_type": "code",
      "source": [
        "num1 = float(input(\"Enter first number: \"))\n",
        "num2 = float(input(\"Enter second number: \"))\n",
        "\n",
        "print(f\"Addition: {num1 + num2}\")\n",
        "print(f\"Subtraction: {num1 - num2}\")\n",
        "print(f\"Multiplication: {num1 * num2}\")\n",
        "if num2 != 0:\n",
        "    print(f\"Division: {num1 / num2}\")\n",
        "else:\n",
        "    print(\"Division: Cannot divide by zero\")"
      ],
      "metadata": {
        "id": "FAfeSLa2e9lu",
        "colab": {
          "base_uri": "https://localhost:8080/"
        },
        "outputId": "e3c78039-a273-43e9-8787-50a54d7f257c"
      },
      "execution_count": 5,
      "outputs": [
        {
          "output_type": "stream",
          "name": "stdout",
          "text": [
            "Enter first number: 34\n",
            "Enter second number: 35\n",
            "Addition: 69.0\n",
            "Subtraction: -1.0\n",
            "Multiplication: 1190.0\n",
            "Division: 0.9714285714285714\n"
          ]
        }
      ]
    },
    {
      "cell_type": "markdown",
      "source": [
        "### 8. Write a program to demonstrate the use of logical operators."
      ],
      "metadata": {
        "id": "enEyUhhqfEuI"
      }
    },
    {
      "cell_type": "code",
      "source": [
        "a = True\n",
        "b = False\n",
        "\n",
        "print(f\"True and False: {a and b}\")  # False\n",
        "print(f\"True or False: {a or b}\")    # True\n",
        "print(f\"not True: {not a}\")          # False\n",
        "print(f\"not False: {not b}\")         # True"
      ],
      "metadata": {
        "id": "oNbWU_VdfF0K",
        "colab": {
          "base_uri": "https://localhost:8080/"
        },
        "outputId": "45352792-b429-4060-83f4-5b5fbfed6e80"
      },
      "execution_count": 6,
      "outputs": [
        {
          "output_type": "stream",
          "name": "stdout",
          "text": [
            "True and False: False\n",
            "True or False: True\n",
            "not True: False\n",
            "not False: True\n"
          ]
        }
      ]
    },
    {
      "cell_type": "markdown",
      "source": [
        "### 9. Write a Python program to convert user input from string to integer, float, and boolean types."
      ],
      "metadata": {
        "id": "jHbYCx0CfIKA"
      }
    },
    {
      "cell_type": "code",
      "source": [
        "user_input = input(\"Enter a value: \")\n",
        "\n",
        "# Convert to integer (assumes valid input)\n",
        "int_value = int(user_input)\n",
        "print(f\"Integer: {int_value}\")\n",
        "\n",
        "# Convert to float\n",
        "float_value = float(user_input)\n",
        "print(f\"Float: {float_value}\")\n",
        "\n",
        "# Convert to boolean (non-empty/non-zero is True)\n",
        "bool_value = bool(user_input)\n",
        "print(f\"Boolean: {bool_value}\")"
      ],
      "metadata": {
        "id": "eXB84PqofMec",
        "colab": {
          "base_uri": "https://localhost:8080/"
        },
        "outputId": "2db72e12-b9cf-41a5-cea0-9a935cf292f7"
      },
      "execution_count": 7,
      "outputs": [
        {
          "output_type": "stream",
          "name": "stdout",
          "text": [
            "Enter a value: 45\n",
            "Integer: 45\n",
            "Float: 45.0\n",
            "Boolean: True\n"
          ]
        }
      ]
    },
    {
      "cell_type": "markdown",
      "source": [
        "### 10. Write code to demonstrate type casting with list elements."
      ],
      "metadata": {
        "id": "Fe1_jHXlfQC3"
      }
    },
    {
      "cell_type": "code",
      "source": [
        "my_list = [\"123\", \"45.67\", \"True\"]  # Strings in a list\n",
        "\n",
        "# Cast first element to int\n",
        "int_value = int(my_list[0])\n",
        "print(f\"Int from '{my_list[0]}': {int_value}\")\n",
        "\n",
        "# Cast second to float\n",
        "float_value = float(my_list[1])\n",
        "print(f\"Float from '{my_list[1]}': {float_value}\")\n",
        "\n",
        "# Cast third to bool (custom: check if it's 'True')\n",
        "bool_value = my_list[2] == \"True\"\n",
        "print(f\"Bool from '{my_list[2]}': {bool_value}\")"
      ],
      "metadata": {
        "id": "s6irm3UOfUge",
        "colab": {
          "base_uri": "https://localhost:8080/"
        },
        "outputId": "3873d8ca-12af-4b3e-c94c-5ddda981328c"
      },
      "execution_count": 8,
      "outputs": [
        {
          "output_type": "stream",
          "name": "stdout",
          "text": [
            "Int from '123': 123\n",
            "Float from '45.67': 45.67\n",
            "Bool from 'True': True\n"
          ]
        }
      ]
    },
    {
      "cell_type": "markdown",
      "source": [
        "### 11. Write a program that checks if a number is positive, negative, or zero."
      ],
      "metadata": {
        "id": "CXLEjeRWfYhv"
      }
    },
    {
      "cell_type": "code",
      "source": [
        "num = float(input(\"Enter a number: \"))\n",
        "\n",
        "if num > 0:\n",
        "    print(\"The number is positive.\")\n",
        "elif num < 0:\n",
        "    print(\"The number is negative.\")\n",
        "else:\n",
        "    print(\"The number is zero.\")"
      ],
      "metadata": {
        "id": "V6uG4YU2fcsQ",
        "colab": {
          "base_uri": "https://localhost:8080/"
        },
        "outputId": "0cfb0e59-fe03-4220-c69a-089989622558"
      },
      "execution_count": 9,
      "outputs": [
        {
          "output_type": "stream",
          "name": "stdout",
          "text": [
            "Enter a number: 4\n",
            "The number is positive.\n"
          ]
        }
      ]
    },
    {
      "cell_type": "markdown",
      "source": [
        "### 12. Write a for loop to print numbers from 1 to 10."
      ],
      "metadata": {
        "id": "8KBGcBiQffvI"
      }
    },
    {
      "cell_type": "code",
      "source": [
        "for i in range(1, 11):\n",
        "    print(i)"
      ],
      "metadata": {
        "id": "JY7jAWSmfkQ4",
        "colab": {
          "base_uri": "https://localhost:8080/"
        },
        "outputId": "14428054-da02-44d5-bc78-a268446bdd53"
      },
      "execution_count": 10,
      "outputs": [
        {
          "output_type": "stream",
          "name": "stdout",
          "text": [
            "1\n",
            "2\n",
            "3\n",
            "4\n",
            "5\n",
            "6\n",
            "7\n",
            "8\n",
            "9\n",
            "10\n"
          ]
        }
      ]
    },
    {
      "cell_type": "markdown",
      "source": [
        "### 13. Write a Python program to find the sum of all even numbers between 1 and 50."
      ],
      "metadata": {
        "id": "Fqi-MigmfnJ4"
      }
    },
    {
      "cell_type": "code",
      "source": [
        "total = 0\n",
        "for i in range(2, 51, 2):\n",
        "    total += i\n",
        "print(\"Sum of even numbers from 1 to 50:\", total)"
      ],
      "metadata": {
        "id": "7HBZl1YyfrRJ",
        "colab": {
          "base_uri": "https://localhost:8080/"
        },
        "outputId": "018ac454-30c5-4040-f297-b3152159bdf5"
      },
      "execution_count": 11,
      "outputs": [
        {
          "output_type": "stream",
          "name": "stdout",
          "text": [
            "Sum of even numbers from 1 to 50: 650\n"
          ]
        }
      ]
    },
    {
      "cell_type": "markdown",
      "source": [
        "### 14. Write a program to reverse a string using a while loop."
      ],
      "metadata": {
        "id": "nOmiScwAft5j"
      }
    },
    {
      "cell_type": "code",
      "source": [
        "original = input(\"Enter a string: \")\n",
        "reversed_str = \"\"\n",
        "i = len(original) - 1\n",
        "while i >= 0:\n",
        "    reversed_str += original[i]\n",
        "    i -= 1\n",
        "print(\"Reversed string:\", reversed_str)"
      ],
      "metadata": {
        "id": "tv76BxyZfyyP",
        "colab": {
          "base_uri": "https://localhost:8080/"
        },
        "outputId": "61cd2278-4122-4fd9-88fd-b318859ce4bd"
      },
      "execution_count": 12,
      "outputs": [
        {
          "output_type": "stream",
          "name": "stdout",
          "text": [
            "Enter a string: \"sum\"\n",
            "Reversed string: \"mus\"\n"
          ]
        }
      ]
    },
    {
      "cell_type": "markdown",
      "source": [
        "### 15. Write a Python program to calculate the factorial of a number provided by the user using a while loop."
      ],
      "metadata": {
        "id": "CtKDiGfvf1Oa"
      }
    },
    {
      "cell_type": "code",
      "source": [
        "num = int(input(\"Enter a non-negative integer: \"))\n",
        "if num < 0:\n",
        "    print(\"Factorial is not defined for negative numbers.\")\n",
        "else:\n",
        "    factorial = 1\n",
        "    i = 1\n",
        "    while i <= num:\n",
        "        factorial *= i\n",
        "        i += 1\n",
        "    print(f\"Factorial of {num}: {factorial}\")"
      ],
      "metadata": {
        "id": "QtrPLsVhf6Fx",
        "colab": {
          "base_uri": "https://localhost:8080/"
        },
        "outputId": "2b6ba1d2-a329-43d4-bb59-aa7a114bee2c"
      },
      "execution_count": 13,
      "outputs": [
        {
          "output_type": "stream",
          "name": "stdout",
          "text": [
            "Enter a non-negative integer: 34\n",
            "Factorial of 34: 295232799039604140847618609643520000000\n"
          ]
        }
      ]
    }
  ]
}